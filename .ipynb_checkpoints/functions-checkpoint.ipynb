{
 "cells": [
  {
   "cell_type": "code",
   "execution_count": 55,
   "metadata": {},
   "outputs": [],
   "source": [
    "import numpy as np\n",
    "import os\n",
    "from twilio.rest import Client\n",
    "import random"
   ]
  },
  {
   "cell_type": "code",
   "execution_count": 87,
   "metadata": {},
   "outputs": [],
   "source": [
    "numbers = [\"7406835152\"]\n",
    "\n",
    "# Find these values at https://twilio.com/user/account\n",
    "# To set up environmental variables, see http://twil.io/secure\n",
    "account_sid = \"AC3814bc45f99ac5af25d5f45c61cdf33d\"\n",
    "auth_token = \"2de3933b90cfbd7d2f1910061c75269c\"\n",
    "\n",
    "client = Client(account_sid, auth_token)\n",
    "\n",
    "message = client.messages.create(\n",
    "    to=\"+1\" + numbers[0],\n",
    "    from_=\"+17203998395\",\n",
    "    body=\"Hello from twilio!\")"
   ]
  },
  {
   "cell_type": "code",
   "execution_count": null,
   "metadata": {},
   "outputs": [],
   "source": [
    "def send_text(numbers,text):\n",
    "\n",
    "    # Find these values at https://twilio.com/user/account\n",
    "    # To set up environmental variables, see http://twil.io/secure\n",
    "    account_sid = \"AC3814bc45f99ac5af25d5f45c61cdf33d\"\n",
    "    auth_token = \"2de3933b90cfbd7d2f1910061c75269c\"\n",
    "\n",
    "    client = Client(account_sid, auth_token)\n",
    "\n",
    "    for number,text in zip(numbers,texts):\n",
    "        message = client.messages.create(\n",
    "            to=\"+1\" + number,\n",
    "            from_=\"+17203998395\",\n",
    "            body=text)\n",
    "    "
   ]
  },
  {
   "cell_type": "code",
   "execution_count": null,
   "metadata": {},
   "outputs": [],
   "source": [
    "def save_lie_detector_choice(choice):\n",
    "    from_number = request.values.get('From', None)\n",
    "    \n",
    "    \n",
    "    \n",
    "    return numbers,texts"
   ]
  },
  {
   "cell_type": "code",
   "execution_count": null,
   "metadata": {},
   "outputs": [],
   "source": [
    "from_number = request.values.get('From', None)"
   ]
  },
  {
   "cell_type": "code",
   "execution_count": null,
   "metadata": {},
   "outputs": [],
   "source": []
  },
  {
   "cell_type": "code",
   "execution_count": 81,
   "metadata": {},
   "outputs": [],
   "source": [
    "def espionage(numbers,roles):\n",
    "    roles.append(roles[0])\n",
    "    \n",
    "    texts = []\n",
    "    for c in range(len(numbers)):\n",
    "        right = np.random.randint(0,2)\n",
    "        \n",
    "        if right:\n",
    "            if roles[c+1]:\n",
    "                texts.append(\"CODE RED: Espionage Detected\")\n",
    "            else:\n",
    "                texts.append(\"ALL CLEAR: Espionage NOT Detected\")\n",
    "                \n",
    "        else:\n",
    "            if roles[c-1]:\n",
    "                texts.append(\"CODE RED: Espionage Detected\")\n",
    "            else:\n",
    "                texts.append(\"ALL CLEAR: Espionage NOT Detected\")\n",
    "                \n",
    "    return numbers,texts"
   ]
  },
  {
   "cell_type": "code",
   "execution_count": 73,
   "metadata": {},
   "outputs": [
    {
     "data": {
      "text/plain": [
       "array([0., 0., 1.])"
      ]
     },
     "execution_count": 73,
     "metadata": {},
     "output_type": "execute_result"
    }
   ],
   "source": [
    "\n",
    "# entry parameters\n",
    "numbers = [\"2166246222\", \"4402313586\", \"4408401998\"]\n",
    "n = 3\n",
    "\n",
    "# set up the game with roles and phone numbers, input number of people\n",
    "def SetupGameState(n):\n",
    "\n",
    "    # 0 = good, 1 = bad\n",
    "    roles = np.zeros(n)\n",
    "    roles[random.randint(0,n-1)] = 1\n",
    "    return roles\n",
    "    \n",
    "SetupGameState(n)"
   ]
  },
  {
   "cell_type": "code",
   "execution_count": 66,
   "metadata": {},
   "outputs": [],
   "source": [
    "def NameGenerator(num_names):\n",
    "    list_names = ['Alpha','Bravo','Charlie','Delta','Echo',\n",
    "                  'Foxtrot','Golf','Hotel','India','Juliet',\n",
    "                  'Kilo','Lima','Mike','November','Oscar','Papa',\n",
    "                  'Quebec','Romeo','Sierra','Tango','Uniform',\n",
    "                  'Victor','Whiskey','X-ray','Yankee','Zulu']\n",
    "\n",
    "    return_names = []\n",
    "    for i in range(num_names):\n",
    "        name = random.choice(list_names)\n",
    "        return_names.append(\"Agent \"+name)\n",
    "        list_names.remove(name)\n",
    "            \n",
    "    return return_names"
   ]
  },
  {
   "cell_type": "code",
   "execution_count": null,
   "metadata": {},
   "outputs": [],
   "source": [
    "def collect_users_start(numbers):\n",
    "    from_number = request.values.get('From', None)\n",
    "    if body.lower()==\"enlist me\":\n",
    "        numbers.append(from_number)\n",
    "    else:\n",
    "        resp = MessagingResponse()\n",
    "        resp.message('Permission Denied, text \"Enlist Me\" to continue')\n",
    "        \n",
    "    return numbers"
   ]
  }
 ],
 "metadata": {
  "kernelspec": {
   "display_name": "Python 3",
   "language": "python",
   "name": "python3"
  },
  "language_info": {
   "codemirror_mode": {
    "name": "ipython",
    "version": 3
   },
   "file_extension": ".py",
   "mimetype": "text/x-python",
   "name": "python",
   "nbconvert_exporter": "python",
   "pygments_lexer": "ipython3",
   "version": "3.7.3"
  }
 },
 "nbformat": 4,
 "nbformat_minor": 2
}
