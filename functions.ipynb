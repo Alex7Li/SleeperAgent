{
 "cells": [
  {
   "cell_type": "code",
   "execution_count": 55,
   "metadata": {},
   "outputs": [],
   "source": [
    "import numpy as np\n",
    "import os\n",
    "from twilio.rest import Client\n",
    "import random"
   ]
  },
  {
   "cell_type": "code",
   "execution_count": 87,
   "metadata": {},
   "outputs": [],
   "source": [
    "numbers = [\"7406835152\"]\n",
    "\n",
    "# Find these values at https://twilio.com/user/account\n",
    "# To set up environmental variables, see http://twil.io/secure\n",
    "account_sid = \"AC3814bc45f99ac5af25d5f45c61cdf33d\"\n",
    "auth_token = \"2de3933b90cfbd7d2f1910061c75269c\"\n",
    "\n",
    "client = Client(account_sid, auth_token)\n",
    "\n",
    "message = client.messages.create(\n",
    "    to=\"+1\" + numbers[0],\n",
    "    from_=\"+17203998395\",\n",
    "    body=\"Hello from twilio!\")"
   ]
  },
  {
   "cell_type": "code",
   "execution_count": null,
   "metadata": {},
   "outputs": [],
   "source": [
    "def send_text(numbers,text):\n",
    "\n",
    "    # Find these values at https://twilio.com/user/account\n",
    "    # To set up environmental variables, see http://twil.io/secure\n",
    "    account_sid = \"AC3814bc45f99ac5af25d5f45c61cdf33d\"\n",
    "    auth_token = \"2de3933b90cfbd7d2f1910061c75269c\"\n",
    "\n",
    "    client = Client(account_sid, auth_token)\n",
    "\n",
    "    for number,text in zip(numbers,texts):\n",
    "        message = client.messages.create(\n",
    "            to=\"+1\" + number,\n",
    "            from_=\"+17203998395\",\n",
    "            body=text)\n",
    "    "
   ]
  },
  {
   "cell_type": "code",
   "execution_count": null,
   "metadata": {},
   "outputs": [],
   "source": [
    "def save_lie_detector_choice(choice):\n",
    "    from_number = request.values.get('From', None)\n",
    "    \n",
    "    \n",
    "    \n",
    "    return numbers,texts"
   ]
  },
  {
   "cell_type": "code",
   "execution_count": null,
   "metadata": {},
   "outputs": [],
   "source": [
    "from_number = request.values.get('From', None)"
   ]
  },
  {
   "cell_type": "code",
   "execution_count": null,
   "metadata": {},
   "outputs": [],
   "source": []
  },
  {
   "cell_type": "code",
   "execution_count": 81,
   "metadata": {},
   "outputs": [],
   "source": [
    "def espionage(numbers,roles):\n",
    "    roles.append(roles[0])\n",
    "    \n",
    "    texts = []\n",
    "    for c in range(len(numbers)):\n",
    "        right = np.random.randint(0,2)\n",
    "        \n",
    "        if right:\n",
    "            if roles[c+1]:\n",
    "                texts.append(\"CODE RED: Espionage Detected\")\n",
    "            else:\n",
    "                texts.append(\"ALL CLEAR: Espionage NOT Detected\")\n",
    "                \n",
    "        else:\n",
    "            if roles[c-1]:\n",
    "                texts.append(\"CODE RED: Espionage Detected\")\n",
    "            else:\n",
    "                texts.append(\"ALL CLEAR: Espionage NOT Detected\")\n",
    "                \n",
    "    return numbers,texts"
   ]
  },
  {
   "cell_type": "code",
   "execution_count": 73,
   "metadata": {},
   "outputs": [
    {
     "data": {
      "text/plain": [
       "array([0., 0., 1.])"
      ]
     },
     "execution_count": 73,
     "metadata": {},
     "output_type": "execute_result"
    }
   ],
   "source": [
    "\n",
    "# entry parameters\n",
    "numbers = [\"2166246222\", \"4402313586\", \"4408401998\"]\n",
    "n = 3\n",
    "\n",
    "# set up the game with roles and phone numbers, input number of people\n",
    "def SetupGameState(n):\n",
    "\n",
    "    # 0 = good, 1 = bad\n",
    "    roles = np.zeros(n)\n",
    "    roles[random.randint(0,n-1)] = 1\n",
    "    return roles\n",
    "    \n",
    "SetupGameState(n)"
   ]
  },
  {
   "cell_type": "code",
   "execution_count": 66,
   "metadata": {},
   "outputs": [],
   "source": [
    "def NameGenerator(num_names):\n",
    "    list_names = ['Alpha','Bravo','Charlie','Delta','Echo',\n",
    "                  'Foxtrot','Golf','Hotel','India','Juliet',\n",
    "                  'Kilo','Lima','Mike','November','Oscar','Papa',\n",
    "                  'Quebec','Romeo','Sierra','Tango','Uniform',\n",
    "                  'Victor','Whiskey','X-ray','Yankee','Zulu']\n",
    "\n",
    "    return_names = []\n",
    "    for i in range(num_names):\n",
    "        name = random.choice(list_names)\n",
    "        return_names.append(\"Agent \"+name)\n",
    "        list_names.remove(name)\n",
    "            \n",
    "    return return_names"
   ]
  },
  {
   "cell_type": "code",
   "execution_count": null,
   "metadata": {},
   "outputs": [],
   "source": [
    "def collect_users_start(numbers):\n",
    "    from_number = request.values.get('From', None)\n",
    "    if body.lower()==\"enlist me\":\n",
    "        numbers.append(from_number)\n",
    "    else:\n",
    "        resp = MessagingResponse()\n",
    "        resp.message('Permission Denied, text \"Enlist Me\" to continue')\n",
    "        \n",
    "    return numbers"
   ]
  },
  {
   "cell_type": "code",
   "execution_count": 1,
   "metadata": {},
   "outputs": [],
   "source": [
    "def button(button_presses,names,name,choice):\n",
    "    button_presses[name]=choice\n",
    "\n",
    "    # checks if everyone has submitted\n",
    "    if len(button_presses)==len(names):\n",
    "        done = True\n",
    "    else:\n",
    "        done = False\n",
    "\n",
    "    return button_presses,done"
   ]
  },
  {
   "cell_type": "code",
   "execution_count": 14,
   "metadata": {},
   "outputs": [],
   "source": [
    "names = [\"a\",\"b\",\"c\",\"d\"]\n",
    "choices = [1,0,1,1]\n",
    "roles = [0,1,0,0]\n",
    "button_presses = {}"
   ]
  },
  {
   "cell_type": "code",
   "execution_count": 6,
   "metadata": {},
   "outputs": [],
   "source": [
    "for name,choice in zip(names,choices):\n",
    "    button_presses,done = button(button_presses,names,name,choice)\n",
    "    "
   ]
  },
  {
   "cell_type": "code",
   "execution_count": 11,
   "metadata": {},
   "outputs": [],
   "source": [
    "import numpy as np"
   ]
  },
  {
   "cell_type": "code",
   "execution_count": 9,
   "metadata": {},
   "outputs": [],
   "source": [
    "def get_emergency_mission_number(names):\n",
    "    return np.ceil(len(names)/2)"
   ]
  },
  {
   "cell_type": "code",
   "execution_count": 13,
   "metadata": {},
   "outputs": [
    {
     "data": {
      "text/plain": [
       "2.0"
      ]
     },
     "execution_count": 13,
     "metadata": {},
     "output_type": "execute_result"
    }
   ],
   "source": [
    "get_emergency_mission_number(names)"
   ]
  },
  {
   "cell_type": "code",
   "execution_count": 15,
   "metadata": {},
   "outputs": [],
   "source": [
    "def emergency_mission(roles,mission_names,names):\n",
    "    mission_roles = [r for r,n in zip(roles,names) if n in mission_names]\n",
    "\n",
    "    if sum(mission_roles)>0:\n",
    "        if_bad_on_mission = True\n",
    "    else:\n",
    "        if_bad_on_mission = False\n",
    "\n",
    "    return if_bad_on_mission"
   ]
  },
  {
   "cell_type": "code",
   "execution_count": 20,
   "metadata": {},
   "outputs": [
    {
     "data": {
      "text/plain": [
       "True"
      ]
     },
     "execution_count": 20,
     "metadata": {},
     "output_type": "execute_result"
    }
   ],
   "source": [
    "mission_names = [\"b\",\"d\"]\n",
    "emergency_mission(roles,mission_names,names)"
   ]
  },
  {
   "cell_type": "code",
   "execution_count": 394,
   "metadata": {},
   "outputs": [
    {
     "ename": "NameError",
     "evalue": "name 'random' is not defined",
     "output_type": "error",
     "traceback": [
      "\u001b[1;31m---------------------------------------------------------------------------\u001b[0m",
      "\u001b[1;31mNameError\u001b[0m                                 Traceback (most recent call last)",
      "\u001b[1;32m<ipython-input-394-99d42ee7b553>\u001b[0m in \u001b[0;36m<module>\u001b[1;34m\u001b[0m\n\u001b[1;32m----> 1\u001b[1;33m \u001b[0mrandom\u001b[0m\u001b[1;33m.\u001b[0m\u001b[0mrandint\u001b[0m\u001b[1;33m(\u001b[0m\u001b[1;36m0\u001b[0m\u001b[1;33m,\u001b[0m\u001b[1;36m1\u001b[0m\u001b[1;33m)\u001b[0m\u001b[1;33m\u001b[0m\u001b[1;33m\u001b[0m\u001b[0m\n\u001b[0m",
      "\u001b[1;31mNameError\u001b[0m: name 'random' is not defined"
     ]
    }
   ],
   "source": [
    "random.randint(0,1)"
   ]
  },
  {
   "cell_type": "code",
   "execution_count": 193,
   "metadata": {},
   "outputs": [],
   "source": [
    "def excecution(role,choice,name,total_choices,names,roles):\n",
    "    try:\n",
    "        total_choices[choice].append(name)\n",
    "    except:\n",
    "        for n in names:\n",
    "            total_choices[n]=[]\n",
    "        total_choices[choice] = [name]\n",
    "\n",
    "    # if all names are in it calcluates the result\n",
    "    summer = 0\n",
    "    for s in total_choices:\n",
    "        summer+=len(total_choices[s])\n",
    "\n",
    "    result = None\n",
    "    revote = False\n",
    "    if summer==len(names):\n",
    "        for n in names:\n",
    "            bad = roles.index(1)\n",
    "            # if bad chose themselves they win\n",
    "            if names[bad] in total_choices[names[bad]]:\n",
    "                result = False\n",
    "                break\n",
    "\n",
    "            # if x num chose bad, good win\n",
    "            elif len(total_choices[names[bad]])>=(np.ceil(len(names)/2)-1):\n",
    "                result=True\n",
    "\n",
    "            else:\n",
    "                revote = True\n",
    "            \n",
    "        \n",
    "\n",
    "    return total_choices,result,revote"
   ]
  },
  {
   "cell_type": "code",
   "execution_count": 148,
   "metadata": {},
   "outputs": [
    {
     "data": {
      "text/plain": [
       "True"
      ]
     },
     "execution_count": 148,
     "metadata": {},
     "output_type": "execute_result"
    }
   ],
   "source": [
    "\"b\" in total_choices[\"b\"]"
   ]
  },
  {
   "cell_type": "code",
   "execution_count": 90,
   "metadata": {},
   "outputs": [
    {
     "data": {
      "text/plain": [
       "True"
      ]
     },
     "execution_count": 90,
     "metadata": {},
     "output_type": "execute_result"
    }
   ],
   "source": [
    "names[1] in total_choices[\"b\"]"
   ]
  },
  {
   "cell_type": "code",
   "execution_count": 117,
   "metadata": {},
   "outputs": [
    {
     "data": {
      "text/plain": [
       "['a', 'b', 'c', 'd']"
      ]
     },
     "execution_count": 117,
     "metadata": {},
     "output_type": "execute_result"
    }
   ],
   "source": [
    "names"
   ]
  },
  {
   "cell_type": "code",
   "execution_count": 129,
   "metadata": {},
   "outputs": [
    {
     "data": {
      "text/plain": [
       "'b'"
      ]
     },
     "execution_count": 129,
     "metadata": {},
     "output_type": "execute_result"
    }
   ],
   "source": [
    "names[1]"
   ]
  },
  {
   "cell_type": "code",
   "execution_count": 146,
   "metadata": {},
   "outputs": [
    {
     "data": {
      "text/plain": [
       "1"
      ]
     },
     "execution_count": 146,
     "metadata": {},
     "output_type": "execute_result"
    }
   ],
   "source": [
    "len(total_choices[names[1]])"
   ]
  },
  {
   "cell_type": "code",
   "execution_count": 145,
   "metadata": {},
   "outputs": [
    {
     "data": {
      "text/plain": [
       "1.0"
      ]
     },
     "execution_count": 145,
     "metadata": {},
     "output_type": "execute_result"
    }
   ],
   "source": [
    "(np.ceil(len(names)/2)-1)"
   ]
  },
  {
   "cell_type": "code",
   "execution_count": 175,
   "metadata": {},
   "outputs": [
    {
     "data": {
      "text/plain": [
       "{'a': [], 'b': ['d', 'b', 'c', 'd'], 'c': [], 'd': []}"
      ]
     },
     "execution_count": 175,
     "metadata": {},
     "output_type": "execute_result"
    }
   ],
   "source": [
    "total_choices"
   ]
  },
  {
   "cell_type": "code",
   "execution_count": 202,
   "metadata": {},
   "outputs": [],
   "source": [
    "total_choices = {}\n",
    "choices = [\"c\",\"a\",\"d\",\"c\"]"
   ]
  },
  {
   "cell_type": "code",
   "execution_count": 203,
   "metadata": {},
   "outputs": [],
   "source": [
    "for choice,name,role in zip(choices,names,roles):\n",
    "    total_choices,result,revote = excecution(role,choice,name,total_choices,names,roles)"
   ]
  },
  {
   "cell_type": "code",
   "execution_count": 204,
   "metadata": {},
   "outputs": [],
   "source": [
    "result"
   ]
  },
  {
   "cell_type": "code",
   "execution_count": 205,
   "metadata": {},
   "outputs": [
    {
     "data": {
      "text/plain": [
       "True"
      ]
     },
     "execution_count": 205,
     "metadata": {},
     "output_type": "execute_result"
    }
   ],
   "source": [
    "revote"
   ]
  },
  {
   "cell_type": "code",
   "execution_count": 396,
   "metadata": {},
   "outputs": [],
   "source": [
    "def button(button_presses,names,name,choice,roles):\n",
    "    button_presses[name]=choice\n",
    "\n",
    "    # checks if everyone has submitted\n",
    "    if len(button_presses)==len(names):\n",
    "        bad = roles.index(1)\n",
    "        said_yes = [i for i in button_presses if button_presses[i].lower().replace(\"'\",\"\")==\"press\"]\n",
    "\n",
    "        # sends text based on everyone's choices and if bad is in pressed\n",
    "        for n in button_presses:\n",
    "            if button_presses[n].lower().replace(\"'\",\"\")==\"press\" and names[bad] in said_yes:\n",
    "                print(n,\"There is a traitor amongst you\")\n",
    "                print(n,\"When your ready to move on, tell the leader to send next phase\")\n",
    "            elif button_presses[n].lower().replace(\"'\",\"\")==\"press\" and names[bad] not in said_yes:\n",
    "                print(n,\"All clear Agent, no one was corrupt\")\n",
    "                print(n,\"When your ready to move on, tell the leader to send next phase\")\n",
    "            elif button_presses[n].lower().replace(\"'\",\"\")==\"dont press\":\n",
    "                print(n,\"You've chosen to sit out\")\n",
    "                print(n,\"When your ready to move on, tell the leader to send next phase\")\n",
    "                \n",
    "                \n",
    "                "
   ]
  },
  {
   "cell_type": "code",
   "execution_count": 401,
   "metadata": {},
   "outputs": [],
   "source": [
    "button_presses = {}\n",
    "roles = [0,1,0,0]\n",
    "choices = [\"press\",\"dont press\",\"press\",\"press\"]"
   ]
  },
  {
   "cell_type": "code",
   "execution_count": 402,
   "metadata": {},
   "outputs": [
    {
     "name": "stdout",
     "output_type": "stream",
     "text": [
      "a All clear Agent, no one was corrupt\n",
      "a When your ready to move on, tell the leader to send next phase\n",
      "b You've chosen to sit out\n",
      "b When your ready to move on, tell the leader to send next phase\n",
      "c All clear Agent, no one was corrupt\n",
      "c When your ready to move on, tell the leader to send next phase\n",
      "d All clear Agent, no one was corrupt\n",
      "d When your ready to move on, tell the leader to send next phase\n"
     ]
    }
   ],
   "source": [
    "for name,choice in zip(names,choices):\n",
    "    button(button_presses,names,name,choice,roles)"
   ]
  }
 ],
 "metadata": {
  "kernelspec": {
   "display_name": "Python 3",
   "language": "python",
   "name": "python3"
  },
  "language_info": {
   "codemirror_mode": {
    "name": "ipython",
    "version": 3
   },
   "file_extension": ".py",
   "mimetype": "text/x-python",
   "name": "python",
   "nbconvert_exporter": "python",
   "pygments_lexer": "ipython3",
   "version": "3.7.3"
  }
 },
 "nbformat": 4,
 "nbformat_minor": 2
}
